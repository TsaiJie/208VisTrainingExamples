{
 "cells": [
  {
   "cell_type": "code",
   "execution_count": null,
   "metadata": {},
   "outputs": [],
   "source": [
    "#2. 如何导入Numpy\n",
    "import numpy as np"
   ]
  },
  {
   "cell_type": "code",
   "execution_count": null,
   "metadata": {},
   "outputs": [],
   "source": [
    "#【阅读示例代码】\n",
    "a = np.arange(6)\n",
    "a2 = a[np.newaxis, :]\n",
    "a2.shape"
   ]
  },
  {
   "cell_type": "code",
   "execution_count": null,
   "metadata": {},
   "outputs": [],
   "source": [
    "#【什么是数组】\n",
    "a = np.array([1, 2, 3, 4, 5, 6])\n",
    "a = np.array([[1, 2, 3, 4], [5, 6, 7, 8], [9, 10, 11, 12]])\n",
    "print(a[0]) #[1 2 3 4]"
   ]
  },
  {
   "cell_type": "code",
   "execution_count": null,
   "metadata": {},
   "outputs": [],
   "source": [
    "#【如何创建一个基本数组】\n",
    "import numpy as np\n",
    "a = np.array([1, 2, 3])\n",
    "print(a)"
   ]
  },
  {
   "cell_type": "code",
   "execution_count": null,
   "metadata": {},
   "outputs": [],
   "source": [
    "# 除了从元素序列中创建数组外，你还可以轻松创建一个充满0的数组。\n",
    "np.zeros(2)\n",
    "#array([0., 0.])"
   ]
  },
  {
   "cell_type": "code",
   "execution_count": null,
   "metadata": {},
   "outputs": [],
   "source": [
    "# 或者一个充满1的数组\n",
    "np.ones(2)\n",
    "#array([1., 1.])"
   ]
  },
  {
   "cell_type": "code",
   "execution_count": null,
   "metadata": {},
   "outputs": [],
   "source": [
    "# Create an empty array with 2 elements \n",
    "np.empty(2)\n",
    "array([ 3.14, 42. ]) # may vary "
   ]
  },
  {
   "cell_type": "code",
   "execution_count": null,
   "metadata": {},
   "outputs": [],
   "source": [
    "#创建一个包含一系列元素的数组。\n",
    "np.arange(4)\n",
    "#array([0, 1, 2, 3])"
   ]
  },
  {
   "cell_type": "code",
   "execution_count": null,
   "metadata": {},
   "outputs": [],
   "source": [
    "# 均匀间隔的数组\n",
    "np.arange(2, 9, 2) \n",
    "#array([2, 4, 6, 8])"
   ]
  },
  {
   "cell_type": "code",
   "execution_count": null,
   "metadata": {},
   "outputs": [],
   "source": [
    "#数组中的值在一个指定的区间内线性间隔\n",
    "np.linspace(0, 10, num=5) \n",
    "#array([ 0. , 2.5, 5. , 7.5, 10. ])"
   ]
  },
  {
   "cell_type": "code",
   "execution_count": null,
   "metadata": {},
   "outputs": [],
   "source": [
    "#4. 数据类型\n",
    "#dtype关键字明确指定你想要的数据类型\n",
    "x = np.ones(2, dtype=np.int64) \n",
    "x\n",
    "#array([1, 1]) "
   ]
  },
  {
   "cell_type": "code",
   "execution_count": null,
   "metadata": {},
   "outputs": [],
   "source": [
    "# 【添加、删除和排序元素】\n",
    "arr = np.array([2, 1, 5, 3, 7, 4, 6, 8])\n",
    "np.sort(arr) #升序排列\n",
    "# array([1, 2, 3, 4, 5, 6, 7, 8])"
   ]
  },
  {
   "cell_type": "code",
   "execution_count": null,
   "metadata": {},
   "outputs": [],
   "source": [
    "# 连接\n",
    "a = np.array([1, 2, 3, 4])\n",
    "b = np.array([5, 6, 7, 8])\n",
    "np.concatenate((a, b))\n",
    "# array([1, 2, 3, 4, 5, 6, 7, 8])"
   ]
  },
  {
   "cell_type": "code",
   "execution_count": null,
   "metadata": {},
   "outputs": [],
   "source": [
    "# 连接\n",
    "x = np.array([[1, 2], [3, 4]])\n",
    "y = np.array([[5, 6]])\n",
    "np.concatenate((x, y), axis=0)\n",
    "# array([[1, 2], \n",
    "#        [3, 4],\n",
    "#       [5, 6]]）"
   ]
  },
  {
   "cell_type": "code",
   "execution_count": null,
   "metadata": {},
   "outputs": [],
   "source": [
    "# 【如何知道数组的形状和大小？】\n",
    "# 下面内容包括ndarray.ndim、ndarray.size、ndarray.shape等。\n",
    "# ndarray.ndim会告诉你数组的轴数，或者说维数。\n",
    "# ndarray.size 会告诉你数组的元素总数。这是数组中元素形状的乘积。\n",
    "# ndarray.shape 将显示一个整数元组，表示沿数组的每个维度存储的元素数量。\n",
    "\n",
    "array_example = np.array([[[0, 1, 2, 3],\n",
    "                               [4, 5, 6, 7]],\n",
    "                              [[0, 1, 2, 3],\n",
    "                              [4, 5, 6, 7]],\n",
    "                              [[0 ,1 ,2, 3],\n",
    "                              [4, 5, 6, 7]]])"
   ]
  },
  {
   "cell_type": "code",
   "execution_count": null,
   "metadata": {},
   "outputs": [],
   "source": [
    "# 要查找数组的维数\n",
    "array_example.ndim\n",
    "# 3"
   ]
  },
  {
   "cell_type": "code",
   "execution_count": null,
   "metadata": {},
   "outputs": [],
   "source": [
    "# 要查找数组中的元素总数。\n",
    "array_example.size\n",
    "# 24"
   ]
  },
  {
   "cell_type": "code",
   "execution_count": null,
   "metadata": {},
   "outputs": [],
   "source": [
    "# 要找到数组的形状，运行。\n",
    "array_example.shape\n",
    "# (3, 2, 4）"
   ]
  },
  {
   "cell_type": "code",
   "execution_count": null,
   "metadata": {},
   "outputs": [],
   "source": [
    "# 【重塑一个数组】\n",
    "# 使用arr.reshape()可以在不改变数据的情况下给数组一个新的形状。\n",
    "# 只需记住，当你使用reshape方法时，你想要生成的数组需要和原始数组有相同的元素数。\n",
    "# 如果你从一个有12个元素的数组开始，你需要确保你的新数组也有总共12个元素。\n",
    "print(a)\n",
    "# [0 1 2 3 4 5] "
   ]
  },
  {
   "cell_type": "code",
   "execution_count": null,
   "metadata": {},
   "outputs": [],
   "source": [
    "# 你可以使用reshape()来重塑你的数组。例如，你可以将这个数组重塑为一个有三行两列的数组。\n",
    "b = a.reshape(3, 2) >>> print(b)\n",
    "# [[0 1]\n",
    "# [2 3] [4 5]] "
   ]
  },
  {
   "cell_type": "code",
   "execution_count": null,
   "metadata": {},
   "outputs": [],
   "source": [
    "#通过 np.reshape，你可以指定一些可选的参数。\n",
    "numpy.reshape(a, newshape=(1, 6), order='C') array([[0, 1, 2, 3, 4, 5]])"
   ]
  },
  {
   "cell_type": "code",
   "execution_count": null,
   "metadata": {},
   "outputs": [],
   "source": [
    "# 增加一维\n",
    "a = np.array([1, 2, 3, 4, 5, 6]) \n",
    "a.shape\n",
    "# (6,) "
   ]
  },
  {
   "cell_type": "code",
   "execution_count": null,
   "metadata": {},
   "outputs": [],
   "source": [
    "# 您可以使用 np.newaxis 来添加一个新的轴。\n",
    "a2 = a[np.newaxis, :] \n",
    "a2.shape\n",
    "# (1, 6) "
   ]
  },
  {
   "cell_type": "code",
   "execution_count": null,
   "metadata": {},
   "outputs": [],
   "source": [
    "# 您可以使用 np.newaxis 显式地将一个 1D 数组转换为行向量或列向量。\n",
    "ol_vector = a[:, np.newaxis] \n",
    "col_vector.shape\n",
    "# (6, 1) "
   ]
  },
  {
   "cell_type": "code",
   "execution_count": null,
   "metadata": {},
   "outputs": [],
   "source": [
    "#  或者，对于一个列向量，你可以沿着第二个维度插入一个轴。\n",
    "row_vector = a[np.newaxis, :] \n",
    "row_vector.shape\n",
    "# (1, 6) "
   ]
  },
  {
   "cell_type": "code",
   "execution_count": null,
   "metadata": {},
   "outputs": [],
   "source": [
    "# 通过使用 np.expand_dims 在指定的位置插入一个新的轴来扩展一个数组。例如，如果你以这个数组开始。\n",
    "a = np.array([1, 2, 3, 4, 5, 6]) \n",
    "a.shape\n",
    "(6,) "
   ]
  },
  {
   "cell_type": "code",
   "execution_count": null,
   "metadata": {},
   "outputs": [],
   "source": [
    "# 您可以使用 np.expand_dims 在索引位置 1 添加一个轴。\n",
    "b = np.expand_dims(a, axis=1) \n",
    "b.shape\n",
    "# (6, 1) "
   ]
  },
  {
   "cell_type": "code",
   "execution_count": null,
   "metadata": {},
   "outputs": [],
   "source": [
    "# 【索引和切片】\n",
    "# 你可以用划分Python列表的方式来索引和划分NumPy数组。\n",
    "\n",
    "data = np.array([1, 2, 3])\n",
    "data[1]\n",
    "# 2\n",
    "\n",
    "data[0:2] \n",
    "# array([1, 2]) \n",
    "\n",
    "data[1:] \n",
    "# array([2, 3]) \n",
    "\n",
    "data[-2:] \n",
    "# array([2, 3]) \n"
   ]
  },
  {
   "cell_type": "code",
   "execution_count": null,
   "metadata": {},
   "outputs": [],
   "source": [
    "# 你可能想从你的数组中抽取一部分或特定的数组元素来用于进一步的分析或额外的操作。要做到这一点，你需要对你的数组进行子集、分片和/或索引。\n",
    "a = np.array([[1 , 2, 3, 4], [5, 6, 7, 8], [9, 10, 11, 12]]) \n",
    "#你可以轻松地打印数组中所有小于5的值。\n",
    "print(a[a < 5]) \n",
    "#[1 2 3 4] \n"
   ]
  },
  {
   "cell_type": "code",
   "execution_count": null,
   "metadata": {},
   "outputs": [],
   "source": [
    "# 你也可以选择，例如，等于或大于5的数字，并使用该条件来索引一个数组。\n",
    "five_up = (a >= 5) \n",
    "print(a[five_up])\n",
    "# [5 6 7 8 9 10 11 12] "
   ]
  },
  {
   "cell_type": "code",
   "execution_count": null,
   "metadata": {},
   "outputs": [],
   "source": [
    "# 你可以选择被2整除的元素。\n",
    "divisible_by_2 = a[a%2==0] \n",
    "print(divisible_by_2)\n",
    "# [2 4 6 8 10 12]"
   ]
  },
  {
   "cell_type": "code",
   "execution_count": null,
   "metadata": {},
   "outputs": [],
   "source": [
    "# 或者你可以使用&和|运算符选择满足两个条件的元素。\n",
    "c = a[(a > 2) & (a < 11)] \n",
    "print(c)\n",
    "# [3 4 5 6 7 8 9 10] "
   ]
  },
  {
   "cell_type": "code",
   "execution_count": null,
   "metadata": {},
   "outputs": [],
   "source": [
    "# 你也可以使用逻辑运算符&和|来返回布尔值，指定一个数组中的值是否满足某个条件。这对于包含名称或其他分类值的数组是很有用的。\n",
    "five_up = (a > 5) | (a == 5) \n",
    "print(five_up)\n",
    "# [[False False False False]\n",
    "#  [ True  True  True  True]\n",
    "#   [ True  True  True True]]"
   ]
  },
  {
   "cell_type": "code",
   "execution_count": null,
   "metadata": {},
   "outputs": [],
   "source": [
    "# 你也可以使用np.nonzero()从一个数组中选择元素或索引。从这个数组开始。\n",
    "a = np.array([[1, 2, 3, 4], [5, 6, 7, 8], [9, 10, 11, 12]])\n",
    "# 你可以使用 np.nonzero() 来打印元素的指数，例如，小于 5。\n",
    "b = np.nonzero(a < 5)\n",
    "print(b)\n",
    "#(array([0, 0, 0, 0]), array([0, 1, 2, 3])) "
   ]
  },
  {
   "cell_type": "code",
   "execution_count": null,
   "metadata": {},
   "outputs": [],
   "source": [
    "# 在这个例子中，返回了一个数组的元组：每个维度一个。第一个数组代表找到这些值的行索引，第二个数组代表找到这些值的列索引。\n",
    "# 如果你想生成元素存在的坐标列表，你可以压缩数组，迭代坐标列表，然后打印出来。例如\n",
    "list_of_coordinates= list(zip(b[0], b[1]))\n",
    "for coord in list_of_coordinates: ... print(coord)\n",
    "# (0, 0)\n",
    "# (0, 1)\n",
    "# (0, 2) (0, 3) \n"
   ]
  },
  {
   "cell_type": "code",
   "execution_count": null,
   "metadata": {},
   "outputs": [],
   "source": [
    "# 你也可以使用np.nonzero()来打印数组中小于5的元素。\n",
    "not_there = np.nonzero(a == 42)\n",
    "print(not_there)\n",
    "# (array([], dtype=int64), array([], dtype=int64))"
   ]
  },
  {
   "cell_type": "code",
   "execution_count": null,
   "metadata": {},
   "outputs": [],
   "source": [
    "# 如何从现有数据中创建一个数组\n",
    "# 下面包含切片和索引、np.vstack()、np.hstack()、np.hsplit()、.view()、copy()\n",
    "# 你可以很容易地使用从现有数组的一部分创建一个新的数组。比如说你有这样一个数组。\n",
    "\n",
    "a = np.array([1, 2, 3, 4, 5, 6, 7, 8, 9, 10])\n",
    "arr1 = a[3:8]\n",
    "arr1\n",
    "# array([4, 5, 6, 7, 8]) \n"
   ]
  },
  {
   "cell_type": "code",
   "execution_count": null,
   "metadata": {},
   "outputs": [],
   "source": [
    "# 在这里，你从索引位置3到索引位置8抓取了一段数组。\n",
    "# 你也可以将两个现有的数组进行垂直和水平的堆叠。假设你有两个数组，a1和a2。\n",
    "a1 = np.array([[1, 1], ... [2, 2]])\n",
    "a2 = np.array([[3, 3], ... [4, 4]]) "
   ]
  },
  {
   "cell_type": "code",
   "execution_count": null,
   "metadata": {},
   "outputs": [],
   "source": [
    "# 用vstack垂直堆叠它们。\n",
    "np.vstack((a1, a2))\n",
    "# array([[1, 1],\n",
    "#        [2, 2],\n",
    "#        [3, 3],\n",
    "#        [4, 4]])\n",
    "\n"
   ]
  },
  {
   "cell_type": "code",
   "execution_count": null,
   "metadata": {},
   "outputs": [],
   "source": [
    "#或者用hstack将它们水平堆叠。\n",
    "np.hstack((a1, a2)) \n",
    "# array([[1, 1, 3, 3],\n",
    "#       [2, 2, 4, 4]]) "
   ]
  },
  {
   "cell_type": "code",
   "execution_count": null,
   "metadata": {},
   "outputs": [],
   "source": [
    "# 如果你想把这个数组分割成三个形状相同的数组，你可以运行。\n",
    "x = np.arange(1, 25).reshape(2, 12)\n",
    "x\n",
    "# array([[1, 2, 3, 4, 5, 6, 7, 8, 9,10,11,12],\n",
    "#        [13, 14, 15, 16, 17, 18, 19, 20, 21, 22, 23, 24]])\n"
   ]
  },
  {
   "cell_type": "code",
   "execution_count": null,
   "metadata": {},
   "outputs": [],
   "source": [
    "#如果你想把这个数组分割成三个形状相同的数组，你可以运行。\n",
    "np.hsplit(x, 3) \n",
    "\n",
    "# [array([[1, 2, 3, 4],\n",
    "#         [13, 14, 15, 16]]), array([[ 5,  6,  7,  8],\n",
    "#         [17, 18, 19, 20]]), array([[ 9, 10, 11, 12],\n",
    "#         [21, 22, 23, 24]])]"
   ]
  },
  {
   "cell_type": "code",
   "execution_count": null,
   "metadata": {},
   "outputs": [],
   "source": [
    "# 你可以使用view方法创建一个新的数组对象，这个数组对象与原始数组的数据相同\n",
    "a = np.array([[1, 2, 3, 4], [5, 6, 7, 8], [9, 10, 11, 12]])"
   ]
  },
  {
   "cell_type": "code",
   "execution_count": null,
   "metadata": {},
   "outputs": [],
   "source": [
    "# 现在我们通过对a进行切片，创建一个数组b1，并修改b1的第一个元素。这也会修改a中的相应元素。\n",
    "\n",
    "b1 = a[0, :] \n",
    "b1\n",
    "# array([1, 2, 3, 4]) \n",
    "\n",
    "b1[0] = 99\n",
    "b1\n",
    "# array([99, 2, 3, 4]) \n",
    "\n",
    "a\n",
    "# array([[99, 2, 3, 4],\n",
    "# [5, 6, 7, 8], [ 9, 10, 11, 12]])"
   ]
  },
  {
   "cell_type": "code",
   "execution_count": null,
   "metadata": {},
   "outputs": [],
   "source": [
    "#使用复制方法将对数组和它的数据进行完整的复制（深度复制）。要在你的数组上使用这个方法，你可以运行。\n",
    "b2 = a.copy()"
   ]
  },
  {
   "cell_type": "code",
   "execution_count": null,
   "metadata": {},
   "outputs": [],
   "source": [
    "# 【基本数组操作】\n",
    "# 下面内容包括加法、减法、乘法、除法等。\n",
    "# 一旦你创建了你的数组，你就可以开始使用它们了。比如说，你创建了两个数组，一个叫\"data\"，一个叫\"ones\"\n",
    "# 你可以用加号将数组加在一起。\n",
    "\n",
    "data = np.array([1, 2])\n",
    "ones = np.ones(2, dtype=int) \n",
    "data + ones\n",
    "# array([2, 3])\n",
    "\n"
   ]
  },
  {
   "cell_type": "code",
   "execution_count": null,
   "metadata": {},
   "outputs": [],
   "source": [
    "data - ones \n",
    "# array([0, 1]) \n",
    "data * data \n",
    "# array([1, 4]) \n",
    "data / data \n",
    "# array([1., 1.]) \n"
   ]
  },
  {
   "cell_type": "code",
   "execution_count": null,
   "metadata": {},
   "outputs": [],
   "source": [
    "#NumPy的基本操作很简单。如果你想求一个数组中元素的总和，你会使用sum()。这适用于一维数组、二维数组和更高维数组。\n",
    "a = np.array([1, 2, 3, 4])\n",
    "a.sum() \n",
    "# 10"
   ]
  },
  {
   "cell_type": "code",
   "execution_count": null,
   "metadata": {},
   "outputs": [],
   "source": [
    "# 要在一个二维数组中添加行或列，你需要指定轴。如果你从这个数组开始。\n",
    "b = np.array([[1, 1], [2, 2]]) \n",
    "b.sum(axis=0) \n",
    "# array([3, 3]) \n"
   ]
  },
  {
   "cell_type": "code",
   "execution_count": null,
   "metadata": {},
   "outputs": [],
   "source": [
    "# 你可以用以下方法对各列进行加总。\n",
    "b.sum(axis=1)\n",
    "#array([2, 4]) "
   ]
  },
  {
   "cell_type": "code",
   "execution_count": null,
   "metadata": {},
   "outputs": [],
   "source": [
    "# 【广播】\n",
    "# 有些时候，你可能想在一个数组和一个数字之间进行操作（也称为向量和标量之间的操作），或者在两个不同大小的数组之间进行操作。例如，你的数组（我们称它为\"数据\"）可能包含了以英里为单位的距离信息，但你想把这些信息转换为公里。您可以使用以下方法来执行这个操作\n",
    "data = np.array([1.0, 2.0]) \n",
    "data * 1.6\n",
    "# array([1.6, 3.2]) "
   ]
  },
  {
   "cell_type": "code",
   "execution_count": null,
   "metadata": {},
   "outputs": [],
   "source": [
    "# NumPy还可以执行聚合功能。除了min、max和sum之外，你还可以很容易地运行mean来获得平均数，prod来获得元素相乘的结果，std来获得标准差，等等。\n",
    "data.max() \n",
    "# 2.0\n",
    "data.min() \n",
    "# 1.0\n",
    "data.sum() \n",
    "# 3.0 "
   ]
  },
  {
   "cell_type": "code",
   "execution_count": null,
   "metadata": {},
   "outputs": [],
   "source": [
    "#  让我们从这个数组开始，称为\"a\"\n",
    "a=np.array([[0.45053314,0.17296777,0.34376245,0.5510652],\n",
    "[0.54627315, 0.05093587, 0.40067661, 0.55645993],\n",
    "[0.12697628, 0.82485143, 0.26590556, 0.56917101]])"
   ]
  },
  {
   "cell_type": "code",
   "execution_count": null,
   "metadata": {},
   "outputs": [],
   "source": [
    "# 沿着一行或一列进行聚合是很常见的。默认情况下，每个NumPy聚合函数都会返回整个数组的集合。要查找数组中元素的总和或最小值，请运行。\n",
    "a.sum() \n",
    "#4.8595784"
   ]
  },
  {
   "cell_type": "code",
   "execution_count": null,
   "metadata": {},
   "outputs": [],
   "source": [
    "# 或者，\n",
    "a.min() \n",
    "\n",
    "# 0.05093587 "
   ]
  },
  {
   "cell_type": "code",
   "execution_count": null,
   "metadata": {},
   "outputs": [],
   "source": [
    "#　你可以指定你想在哪个轴上计算聚合函数。例如，您可以通过指定axis=0来找到每列中的最小值。\n",
    "a.min(axis=0)\n",
    "# array([0.12697628, 0.05093587, 0.26590556, 0.5510652 ])"
   ]
  },
  {
   "cell_type": "code",
   "execution_count": null,
   "metadata": {},
   "outputs": [],
   "source": [
    "# 【创建矩阵】\n",
    "# 你可以通过Python列表来创建一个二维数组(或\"矩阵\")来在NumPy中表示它们。\n",
    "\n",
    "data = np.array([[1, 2], [3, 4]]) \n",
    "data\n",
    "# array([[1, 2],\n",
    "# [3, 4]]) \n"
   ]
  },
  {
   "cell_type": "code",
   "execution_count": null,
   "metadata": {},
   "outputs": [],
   "source": [
    "# 当你在操作矩阵时，索引和切片操作是很有用的。\n",
    "data[0, 1] \n",
    "#2\n",
    "data[1:3] \n",
    "# array([[3, 4]]) \n",
    "data[0:2, 0] \n",
    "# array([1, 3])"
   ]
  },
  {
   "cell_type": "code",
   "execution_count": null,
   "metadata": {},
   "outputs": [],
   "source": [
    "#你可以用聚合向量的方式聚合矩阵。\n",
    "data.max() \n",
    "# 4\n",
    "data.min() \n",
    "# 1\n",
    "data.sum() \n",
    "# 10\n"
   ]
  },
  {
   "cell_type": "code",
   "execution_count": null,
   "metadata": {},
   "outputs": [],
   "source": [
    "# 您可以将矩阵中的所有值汇总，并可以使用轴参数将它们跨列或跨行汇总。\n",
    "data.max(axis=0) \n",
    "# array([3, 4])\n",
    "data.max(axis=1) \n",
    "# array([2, 4]) \n"
   ]
  },
  {
   "cell_type": "code",
   "execution_count": null,
   "metadata": {},
   "outputs": [],
   "source": [
    "# 一旦你创建了你的矩阵，如果你有两个相同大小的矩阵，你可以使用算术运算符对它们进行加法和乘法。\n",
    "data = np.array([[1, 2], [3, 4]]) \n",
    "ones = np.array([[1, 1], [1, 1]]) \n",
    "data + ones\n",
    "# array([[2, 3],\n",
    "# [4, 5]]) "
   ]
  },
  {
   "cell_type": "code",
   "execution_count": null,
   "metadata": {},
   "outputs": [],
   "source": [
    "#  您可以在不同大小的矩阵上进行这些算术运算，但只有当一个矩阵只有一列或一行时才可以。在这种情况下，NumPy将使用它的广播规则进行操作。\n",
    "data = np.array([[1, 2], [3, 4], [5, 6]])\n",
    "ones_row = np.array([[1, 1]])\n",
    "data + ones_row\n",
    "# array([[2, 3],\n",
    "#        [4, 5],\n",
    "#        [6, 7]])\n"
   ]
  },
  {
   "cell_type": "code",
   "execution_count": null,
   "metadata": {},
   "outputs": [],
   "source": [
    "# 在很多情况下，我们希望NumPy初始化一个数组的值。NumPy提供了像 ones()和 zeros()这样的函数，以及随机数生成的 random.Generator 类。你需要做的就是传入你希望它生成的元素数。\n",
    "\n",
    "np.ones(3)\n",
    "# array([1., 1., 1.])\n",
    "np.zeros(3)\n",
    "# array([0., 0., 0.])# the simplest way to generate random numbers \n",
    "rng = np.random.default_rng(0)\n",
    "rng.random(3)\n",
    "# array([0.63696169, 0.26978671, 0.04097352]) \n"
   ]
  },
  {
   "cell_type": "code",
   "execution_count": null,
   "metadata": {},
   "outputs": [],
   "source": [
    "#  你也可以使用 ones()、zero()和 random()来创建一个 2D 数组，如果你给它们一个描述矩阵维度的元组的话。\n",
    "\n",
    "np.ones((3, 2)) \n",
    "# array([[1., 1.], [1., 1.],\n",
    "# [1., 1.]])\n",
    "np.zeros((3, 2)) \n",
    "# array([[0., 0.], \n",
    "# [0., 0.],\n",
    "# [0., 0.]])\n",
    "rng.random((3, 2)) \n",
    "# array([[0.01652764, 0.81327024],\n",
    "#        [0.91275558, 0.60663578],\n",
    "#        [0.72949656, 0.54362499]])  # may vary\n",
    "\n"
   ]
  },
  {
   "cell_type": "code",
   "execution_count": null,
   "metadata": {},
   "outputs": [],
   "source": [
    "# To Be Continue"
   ]
  }
 ],
 "metadata": {
  "kernelspec": {
   "display_name": "Python 3",
   "language": "python",
   "name": "python3"
  },
  "language_info": {
   "codemirror_mode": {
    "name": "ipython",
    "version": 3
   },
   "file_extension": ".py",
   "mimetype": "text/x-python",
   "name": "python",
   "nbconvert_exporter": "python",
   "pygments_lexer": "ipython3",
   "version": "3.7.3"
  }
 },
 "nbformat": 4,
 "nbformat_minor": 2
}
